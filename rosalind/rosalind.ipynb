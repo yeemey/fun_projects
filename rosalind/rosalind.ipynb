{
 "cells": [
  {
   "cell_type": "markdown",
   "metadata": {},
   "source": [
    "Notebook for working through bioinformatics problems on [Rosalind](http://rosalind.info/problems/list-view/)."
   ]
  },
  {
   "cell_type": "markdown",
   "metadata": {},
   "source": [
    "### Counting DNA Nucleotides\n",
    "**Given:** A DNA string *s* of length at most 1000 nt.\n",
    "\n",
    "**Return:** Four integers (separated by spaces) counting the respective number of times that the symbols 'A', 'C', 'G', and 'T' occur in *s*.\n",
    "\n",
    "**Sample Dataset**\n",
    "\n",
    "```\n",
    "AGCTTTTCATTCTGACTGCAACGGGCAATATGTCTCTGTGTGGATTAAAAAAAGAGTGTCTGATAGCAGC\n",
    "```\n",
    "\n",
    "**Sample Output**\n",
    "\n",
    "```\n",
    "20 12 17 21\n",
    "```"
   ]
  },
  {
   "cell_type": "code",
   "execution_count": 9,
   "metadata": {},
   "outputs": [
    {
     "name": "stdout",
     "output_type": "stream",
     "text": [
      "CACGAACACATGAGGCGGACGTTATCATATGCACCGAATCTTCTGCGTACCGATTTGTAATATGCCAGGCCAAACAAAATATATGCTCAGGTGAATTTAACTAAGGCGATAAACTTATGCAAGGGGATTATTTGTGCCGATGCCCGTGGGGACATGGGATAGAGGTATGGCAGACCACGTACACCCTCACGGTAGGCTACGCTTGAACTGCGTTTTTAGAATCTATTGAAGGGGGTCTTTAGACTTACGGGTATCACCGCTAACCGGATACTGTTAGAACTTTGCACTGAACAGATGCATTTAGTAGCTCGTCTATTCCAGTCTGTGAGTAGCACGACATAATCTCCGTTCCTAGGGTTTGCGCAGTGGTTTATCTTTGCTAAGTTAACAATATGTTTACACATCACATTGCTAGGAAACATCAGAAGAACGCTACCGAATTCTCAAATGTTACATCGTATCCGATATGACCCATCAGAACATCGCTCAATAATCCAGACCTTACCCGTCTATCTCCCAGGCAAGTGCACAGCGGCACACACGGGCTTGTTGTGCGGACCAGGCTTTCTTGGATGTACTTTCATGTAATACGATTTTTCGGGGGTCGAAGGTACCGTGCGCTGAGAGACCTTCATCCAGTTGCCTCTGCGTTCGTCTCCGAATTGGGACCAGATCTCCGCCTGGGATTGAAATCCACTGGGCTGACTTGCGGAGTTGTACCACGGCCTTCCTTGATGGAGATTTCGATCTGGAGTTCCCGCGTAACAGAGTTGCAGTACAGCAGGGAGATCCTAGGCGGCTCTCCGTTTTCTCAACATTATAGCGATGCTCCCCCCGCCCACTTTGGGAACAGTGGACAAGTCCCACTGCGCTCGAACCGGAAATGCATACATTGTTAAGCAATGCAAGAAGCGTAAAGTTAGATTCTATCGTGGCACAGGTGATCATAGGGCAGGGAATTGAATGCGTCTCCAACGTGGTTGCCGGAA\n",
      "\n"
     ]
    }
   ],
   "source": [
    "with open('rosalind_dna.txt') as file:\n",
    "    string = file.readline()\n",
    "print(string)"
   ]
  },
  {
   "cell_type": "code",
   "execution_count": 10,
   "metadata": {},
   "outputs": [
    {
     "name": "stdout",
     "output_type": "stream",
     "text": [
      "251 236 243 259\n"
     ]
    }
   ],
   "source": [
    "a = 0\n",
    "c = 0\n",
    "g = 0\n",
    "t = 0\n",
    "for char in string[:]:\n",
    "    if char.upper() == 'A':\n",
    "        a += 1\n",
    "    elif char.upper() == 'C':\n",
    "        c += 1\n",
    "    elif char.upper() == 'G':\n",
    "        g += 1\n",
    "    elif char.upper() == 'T':\n",
    "        t += 1\n",
    "print(a, c, g, t)"
   ]
  },
  {
   "cell_type": "code",
   "execution_count": null,
   "metadata": {},
   "outputs": [],
   "source": []
  }
 ],
 "metadata": {
  "kernelspec": {
   "display_name": "Python [conda env:anaconda]",
   "language": "python",
   "name": "conda-env-anaconda-py"
  },
  "language_info": {
   "codemirror_mode": {
    "name": "ipython",
    "version": 3
   },
   "file_extension": ".py",
   "mimetype": "text/x-python",
   "name": "python",
   "nbconvert_exporter": "python",
   "pygments_lexer": "ipython3",
   "version": "3.6.5"
  }
 },
 "nbformat": 4,
 "nbformat_minor": 4
}
